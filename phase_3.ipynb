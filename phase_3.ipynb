{
 "cells": [
  {
   "cell_type": "markdown",
   "id": "bb72908e",
   "metadata": {},
   "source": [
    "# Phase 3: Clustering & Segmentation"
   ]
  },
  {
   "cell_type": "code",
   "execution_count": 1,
   "id": "5c64d811",
   "metadata": {},
   "outputs": [],
   "source": [
    "import numpy as np\n",
    "import pandas as pd\n",
    "import matplotlib.pyplot as plt\n",
    "import seaborn as sns\n",
    "from sklearn.mixture import GaussianMixture\n",
    "from sklearn.cluster import KMeans\n",
    "from sklearn.metrics import silhouette_score, davies_bouldin_score\n",
    "from sklearn.manifold import TSNE\n",
    "import plotly.express as px"
   ]
  },
  {
   "cell_type": "code",
   "execution_count": 2,
   "id": "da6f2e6f",
   "metadata": {},
   "outputs": [],
   "source": [
    "# Load embeddings from Phase 2\n",
    "embeddings = np.load('customer_embeddings.npy')  # Shape: (n_samples, 10)"
   ]
  },
  {
   "cell_type": "code",
   "execution_count": 4,
   "id": "925ed313",
   "metadata": {},
   "outputs": [
    {
     "data": {
      "text/plain": [
       "(2217, 10)"
      ]
     },
     "execution_count": 4,
     "metadata": {},
     "output_type": "execute_result"
    }
   ],
   "source": [
    "embeddings.shape"
   ]
  },
  {
   "cell_type": "markdown",
   "id": "b286337e",
   "metadata": {},
   "source": [
    "## Determine Optimal Clusters  "
   ]
  },
  {
   "cell_type": "markdown",
   "id": "85bd41cd",
   "metadata": {},
   "source": [
    "This script evaluates the optimal number of clusters for segmenting your customer embeddings (from the autoencoder) using K-Means clustering. It tests cluster counts from 3 to 6 and selects the best one based on two metrics:\n",
    "\n",
    "    Silhouette Score (higher = better-defined clusters)\n",
    "\n",
    "    Davies-Bouldin Score (lower = better separation between clusters)."
   ]
  },
  {
   "cell_type": "code",
   "execution_count": 7,
   "id": "7957fc95",
   "metadata": {},
   "outputs": [
    {
     "name": "stdout",
     "output_type": "stream",
     "text": [
      "Optimal clusters: 5 (Silhouette: 0.278)\n"
     ]
    }
   ],
   "source": [
    "# Evaluate cluster range (3-6)\n",
    "cluster_range = range(3, 7)\n",
    "silhouette_scores = []\n",
    "db_scores = []\n",
    "\n",
    "for n_clusters in cluster_range:\n",
    "    # K-Means clustering\n",
    "    kmeans = KMeans(n_clusters=n_clusters, random_state=42)\n",
    "    labels = kmeans.fit_predict(embeddings)\n",
    "\n",
    "    # Metrics\n",
    "    silhouette_scores.append(silhouette_score(embeddings, labels))\n",
    "    db_scores.append(davies_bouldin_score(embeddings, labels))\n",
    "# Plot metrics\n",
    "plt.figure(figsize=(12, 5))\n",
    "plt.subplot(1, 2, 1)\n",
    "plt.plot(cluster_range, silhouette_scores, 'bo-')\n",
    "plt.xlabel('Number of clusters')\n",
    "plt.ylabel('Silhouette Score')\n",
    "plt.title('Optimal Cluster Count')\n",
    "\n",
    "plt.subplot(1, 2, 2)\n",
    "plt.plot(cluster_range, db_scores, 'go-')\n",
    "plt.xlabel('Number of clusters')\n",
    "plt.ylabel('Davies-Bouldin Score')\n",
    "plt.title('Lower is Better')\n",
    "plt.savefig('cluster_metrics.png', bbox_inches='tight')\n",
    "plt.close()\n",
    "\n",
    "# Select best cluster count (max silhouette)\n",
    "optimal_clusters = cluster_range[np.argmax(silhouette_scores)]\n",
    "print(f\"Optimal clusters: {optimal_clusters} (Silhouette: {max(silhouette_scores):.3f})\")"
   ]
  },
  {
   "cell_type": "markdown",
   "id": "cbaffd62",
   "metadata": {},
   "source": [
    "K-Means results are poor (Silhouette <0.3).\n",
    "Can be overlapping segments (e.g., customers with mixed behaviors)."
   ]
  },
  {
   "cell_type": "markdown",
   "id": "f9f06756",
   "metadata": {},
   "source": [
    "## Final Clustering  \n"
   ]
  },
  {
   "cell_type": "code",
   "execution_count": 32,
   "id": "5ae13c17",
   "metadata": {},
   "outputs": [],
   "source": [
    "# K-Means with optimal clusters\n",
    "final_kmeans = KMeans(n_clusters=optimal_clusters, random_state=42)\n",
    "cluster_labels = final_kmeans.fit_predict(embeddings)"
   ]
  },
  {
   "cell_type": "code",
   "execution_count": 33,
   "id": "4e89a4fd",
   "metadata": {},
   "outputs": [
    {
     "data": {
      "text/plain": [
       "(2217,)"
      ]
     },
     "execution_count": 33,
     "metadata": {},
     "output_type": "execute_result"
    }
   ],
   "source": [
    "cluster_labels.shape"
   ]
  },
  {
   "cell_type": "code",
   "execution_count": 26,
   "id": "44351788",
   "metadata": {},
   "outputs": [],
   "source": [
    "# Alternative: Gaussian Mixture Model\n",
    "gmm = GaussianMixture(n_components=optimal_clusters, random_state=42)\n",
    "gmm_cluster_labels = gmm.fit_predict(embeddings)"
   ]
  },
  {
   "cell_type": "code",
   "execution_count": 27,
   "id": "5d482835",
   "metadata": {},
   "outputs": [
    {
     "data": {
      "text/plain": [
       "(2217,)"
      ]
     },
     "execution_count": 27,
     "metadata": {},
     "output_type": "execute_result"
    }
   ],
   "source": [
    "gmm_cluster_labels.shape"
   ]
  },
  {
   "cell_type": "code",
   "execution_count": 34,
   "id": "480e1007",
   "metadata": {},
   "outputs": [
    {
     "data": {
      "text/plain": [
       "array([False, False,  True, ..., False, False, False])"
      ]
     },
     "execution_count": 34,
     "metadata": {},
     "output_type": "execute_result"
    }
   ],
   "source": [
    "# Check if K-mean clusters and GMM are the same\n",
    "(cluster_labels == gmm_cluster_labels) == False"
   ]
  },
  {
   "cell_type": "code",
   "execution_count": 35,
   "id": "c78576ea",
   "metadata": {},
   "outputs": [
    {
     "name": "stdout",
     "output_type": "stream",
     "text": [
      "K-Means Silhouette: 0.27784112\n",
      "GMM Silhouette: 0.2798353\n"
     ]
    }
   ],
   "source": [
    "# Compare metrics\n",
    "print(\"K-Means Silhouette:\", silhouette_score(embeddings, cluster_labels))\n",
    "print(\"GMM Silhouette:\", silhouette_score(embeddings, gmm_cluster_labels))"
   ]
  },
  {
   "cell_type": "code",
   "execution_count": 36,
   "id": "635e3f96",
   "metadata": {},
   "outputs": [
    {
     "name": "stderr",
     "output_type": "stream",
     "text": [
      "c:\\Users\\ADMIN\\anaconda3\\envs\\cs685hw\\lib\\site-packages\\sklearn\\utils\\deprecation.py:151: FutureWarning: 'force_all_finite' was renamed to 'ensure_all_finite' in 1.6 and will be removed in 1.8.\n",
      "  warnings.warn(\n",
      "c:\\Users\\ADMIN\\anaconda3\\envs\\cs685hw\\lib\\site-packages\\umap\\umap_.py:1952: UserWarning: n_jobs value 1 overridden to 1 by setting random_state. Use no seed for parallelism.\n",
      "  warn(\n"
     ]
    },
    {
     "data": {
      "image/png": "[encoded data removed]",
      "text/plain": [
       "<Figure size 640x480 with 1 Axes>"
      ]
     },
     "metadata": {},
     "output_type": "display_data"
    }
   ],
   "source": [
    "import umap\n",
    "reducer = umap.UMAP(random_state=42)\n",
    "embeddings_2d = reducer.fit_transform(embeddings)\n",
    "\n",
    "plt.scatter(embeddings_2d[:, 0], embeddings_2d[:, 1], c=cluster_labels, cmap='tab10', alpha=0.5)\n",
    "plt.title(\"K-Means Clusters\")\n",
    "plt.show()"
   ]
  },
  {
   "cell_type": "markdown",
   "id": "83dc9b9b",
   "metadata": {},
   "source": [
    "## Cluster Analysis "
   ]
  },
  {
   "cell_type": "code",
   "execution_count": 37,
   "id": "da0738db",
   "metadata": {},
   "outputs": [],
   "source": [
    "# Load original data with features\n",
    "df = pd.read_csv('preprocessed_campaign_data.csv')\n",
    "df['Cluster'] = cluster_labels\n",
    "\n",
    "# Profile clusters\n",
    "cluster_profiles = df.groupby('Cluster').agg({\n",
    "    'Income': 'median',\n",
    "    'Total_Spend': 'median',\n",
    "    'Recency': 'median',\n",
    "    'Family_Size': 'median',\n",
    "    'MntWines': 'sum',\n",
    "    'NumWebVisitsMonth': 'mean'\n",
    "}).reset_index()\n",
    "\n",
    "# Visualize profiles\n",
    "plt.figure(figsize=(12, 8))\n",
    "sns.heatmap(cluster_profiles.set_index('Cluster'), \n",
    "            annot=True, cmap='Blues', fmt='.1f')\n",
    "plt.title('Customer Segment Profiles', pad=20)\n",
    "plt.savefig('cluster_profiles.png', bbox_inches='tight')\n",
    "plt.close()"
   ]
  },
  {
   "cell_type": "markdown",
   "id": "90d5a8c9",
   "metadata": {},
   "source": [
    "## Interactive Visualization "
   ]
  },
  {
   "cell_type": "code",
   "execution_count": 38,
   "id": "3d489650",
   "metadata": {},
   "outputs": [],
   "source": [
    "# t-SNE for 2D visualization\n",
    "tsne = TSNE(n_components=2, random_state=42)\n",
    "embeddings_2d = tsne.fit_transform(embeddings)\n",
    "\n",
    "# Create interactive plot\n",
    "plot_df = pd.DataFrame({\n",
    "    'x': embeddings_2d[:, 0],\n",
    "    'y': embeddings_2d[:, 1],\n",
    "    'Cluster': cluster_labels,\n",
    "    'Income': df['Income'],\n",
    "    'Total_Spend': df['Total_Spend']\n",
    "})\n",
    "\n",
    "fig = px.scatter(plot_df, x='x', y='y', color='Cluster',\n",
    "                 hover_data=['Income', 'Total_Spend'],\n",
    "                 title='Customer Segments (t-SNE)')\n",
    "fig.write_html('interactive_clusters.html')"
   ]
  },
  {
   "cell_type": "code",
   "execution_count": null,
   "id": "6c5c4001",
   "metadata": {},
   "outputs": [],
   "source": []
  },
  {
   "cell_type": "markdown",
   "id": "27eac9f1",
   "metadata": {},
   "source": [
    "## Save Results"
   ]
  },
  {
   "cell_type": "code",
   "execution_count": 45,
   "id": "475cfeca",
   "metadata": {},
   "outputs": [],
   "source": [
    "numeric_cols = [ 'Income', 'Customer_Tenure', 'Total_Spend', 'Family_Size', 'Recency']"
   ]
  },
  {
   "cell_type": "code",
   "execution_count": 46,
   "id": "505598a9",
   "metadata": {},
   "outputs": [
    {
     "data": {
      "text/html": [
       "<div>\n",
       "<style scoped>\n",
       "    .dataframe tbody tr th:only-of-type {\n",
       "        vertical-align: middle;\n",
       "    }\n",
       "\n",
       "    .dataframe tbody tr th {\n",
       "        vertical-align: top;\n",
       "    }\n",
       "\n",
       "    .dataframe thead th {\n",
       "        text-align: right;\n",
       "    }\n",
       "</style>\n",
       "<table border=\"1\" class=\"dataframe\">\n",
       "  <thead>\n",
       "    <tr style=\"text-align: right;\">\n",
       "      <th></th>\n",
       "      <th>Income</th>\n",
       "      <th>Customer_Tenure</th>\n",
       "      <th>Total_Spend</th>\n",
       "      <th>Family_Size</th>\n",
       "      <th>Recency</th>\n",
       "    </tr>\n",
       "  </thead>\n",
       "  <tbody>\n",
       "    <tr>\n",
       "      <th>0</th>\n",
       "      <td>0.336654</td>\n",
       "      <td>1.530151</td>\n",
       "      <td>1.704107</td>\n",
       "      <td>-1.275199</td>\n",
       "      <td>0.305137</td>\n",
       "    </tr>\n",
       "    <tr>\n",
       "      <th>1</th>\n",
       "      <td>-0.244749</td>\n",
       "      <td>-1.191341</td>\n",
       "      <td>-0.958740</td>\n",
       "      <td>1.390634</td>\n",
       "      <td>-0.386181</td>\n",
       "    </tr>\n",
       "    <tr>\n",
       "      <th>2</th>\n",
       "      <td>1.000925</td>\n",
       "      <td>-0.206656</td>\n",
       "      <td>0.295645</td>\n",
       "      <td>-1.275199</td>\n",
       "      <td>-0.800972</td>\n",
       "    </tr>\n",
       "    <tr>\n",
       "      <th>3</th>\n",
       "      <td>-1.215793</td>\n",
       "      <td>-1.062688</td>\n",
       "      <td>-0.915196</td>\n",
       "      <td>0.057718</td>\n",
       "      <td>-0.800972</td>\n",
       "    </tr>\n",
       "    <tr>\n",
       "      <th>4</th>\n",
       "      <td>0.344295</td>\n",
       "      <td>-0.953829</td>\n",
       "      <td>-0.297215</td>\n",
       "      <td>0.057718</td>\n",
       "      <td>1.549510</td>\n",
       "    </tr>\n",
       "    <tr>\n",
       "      <th>...</th>\n",
       "      <td>...</td>\n",
       "      <td>...</td>\n",
       "      <td>...</td>\n",
       "      <td>...</td>\n",
       "      <td>...</td>\n",
       "    </tr>\n",
       "    <tr>\n",
       "      <th>2212</th>\n",
       "      <td>0.488734</td>\n",
       "      <td>0.134768</td>\n",
       "      <td>1.241877</td>\n",
       "      <td>0.057718</td>\n",
       "      <td>-0.109654</td>\n",
       "    </tr>\n",
       "    <tr>\n",
       "      <th>2213</th>\n",
       "      <td>0.626320</td>\n",
       "      <td>-1.656468</td>\n",
       "      <td>-0.260371</td>\n",
       "      <td>2.723550</td>\n",
       "      <td>0.236005</td>\n",
       "    </tr>\n",
       "    <tr>\n",
       "      <th>2214</th>\n",
       "      <td>0.279618</td>\n",
       "      <td>-0.983518</td>\n",
       "      <td>1.074402</td>\n",
       "      <td>-1.275199</td>\n",
       "      <td>1.445812</td>\n",
       "    </tr>\n",
       "    <tr>\n",
       "      <th>2215</th>\n",
       "      <td>0.884191</td>\n",
       "      <td>-0.978570</td>\n",
       "      <td>0.407853</td>\n",
       "      <td>0.057718</td>\n",
       "      <td>-1.423158</td>\n",
       "    </tr>\n",
       "    <tr>\n",
       "      <th>2216</th>\n",
       "      <td>0.076910</td>\n",
       "      <td>1.327276</td>\n",
       "      <td>-0.715901</td>\n",
       "      <td>1.390634</td>\n",
       "      <td>-0.317049</td>\n",
       "    </tr>\n",
       "  </tbody>\n",
       "</table>\n",
       "<p>2217 rows × 5 columns</p>\n",
       "</div>"
      ],
      "text/plain": [
       "        Income  Customer_Tenure  Total_Spend  Family_Size   Recency\n",
       "0     0.336654         1.530151     1.704107    -1.275199  0.305137\n",
       "1    -0.244749        -1.191341    -0.958740     1.390634 -0.386181\n",
       "2     1.000925        -0.206656     0.295645    -1.275199 -0.800972\n",
       "3    -1.215793        -1.062688    -0.915196     0.057718 -0.800972\n",
       "4     0.344295        -0.953829    -0.297215     0.057718  1.549510\n",
       "...        ...              ...          ...          ...       ...\n",
       "2212  0.488734         0.134768     1.241877     0.057718 -0.109654\n",
       "2213  0.626320        -1.656468    -0.260371     2.723550  0.236005\n",
       "2214  0.279618        -0.983518     1.074402    -1.275199  1.445812\n",
       "2215  0.884191        -0.978570     0.407853     0.057718 -1.423158\n",
       "2216  0.076910         1.327276    -0.715901     1.390634 -0.317049\n",
       "\n",
       "[2217 rows x 5 columns]"
      ]
     },
     "execution_count": 46,
     "metadata": {},
     "output_type": "execute_result"
    }
   ],
   "source": [
    "df[numeric_cols]"
   ]
  },
  {
   "cell_type": "code",
   "execution_count": null,
   "id": "21318c00",
   "metadata": {},
   "outputs": [],
   "source": [
    "# Note:\n",
    "# After clustering, inverse-transform scaled values to generate proper clsuter descriptions\n",
    "import joblib\n",
    "scaler = joblib.load('scaler.joblib')  # Load from disk\n",
    "numerical_features = ['Income', 'Customer_Tenure', 'Total_Spend', 'Family_Size', 'Recency']\n",
    "df[numerical_features] = scaler.inverse_transform(df[numerical_features])"
   ]
  },
  {
   "cell_type": "code",
   "execution_count": 51,
   "id": "96c44275",
   "metadata": {},
   "outputs": [
    {
     "data": {
      "text/html": [
       "<div>\n",
       "<style scoped>\n",
       "    .dataframe tbody tr th:only-of-type {\n",
       "        vertical-align: middle;\n",
       "    }\n",
       "\n",
       "    .dataframe tbody tr th {\n",
       "        vertical-align: top;\n",
       "    }\n",
       "\n",
       "    .dataframe thead th {\n",
       "        text-align: right;\n",
       "    }\n",
       "</style>\n",
       "<table border=\"1\" class=\"dataframe\">\n",
       "  <thead>\n",
       "    <tr style=\"text-align: right;\">\n",
       "      <th></th>\n",
       "      <th>Income</th>\n",
       "      <th>Customer_Tenure</th>\n",
       "      <th>Total_Spend</th>\n",
       "      <th>Family_Size</th>\n",
       "      <th>Recency</th>\n",
       "    </tr>\n",
       "  </thead>\n",
       "  <tbody>\n",
       "    <tr>\n",
       "      <th>0</th>\n",
       "      <td>58138.0</td>\n",
       "      <td>663.0</td>\n",
       "      <td>1617.0</td>\n",
       "      <td>0.0</td>\n",
       "      <td>58.0</td>\n",
       "    </tr>\n",
       "    <tr>\n",
       "      <th>1</th>\n",
       "      <td>46344.0</td>\n",
       "      <td>113.0</td>\n",
       "      <td>27.0</td>\n",
       "      <td>2.0</td>\n",
       "      <td>38.0</td>\n",
       "    </tr>\n",
       "    <tr>\n",
       "      <th>2</th>\n",
       "      <td>71613.0</td>\n",
       "      <td>312.0</td>\n",
       "      <td>776.0</td>\n",
       "      <td>0.0</td>\n",
       "      <td>26.0</td>\n",
       "    </tr>\n",
       "    <tr>\n",
       "      <th>3</th>\n",
       "      <td>26646.0</td>\n",
       "      <td>139.0</td>\n",
       "      <td>53.0</td>\n",
       "      <td>1.0</td>\n",
       "      <td>26.0</td>\n",
       "    </tr>\n",
       "    <tr>\n",
       "      <th>4</th>\n",
       "      <td>58293.0</td>\n",
       "      <td>161.0</td>\n",
       "      <td>422.0</td>\n",
       "      <td>1.0</td>\n",
       "      <td>94.0</td>\n",
       "    </tr>\n",
       "    <tr>\n",
       "      <th>...</th>\n",
       "      <td>...</td>\n",
       "      <td>...</td>\n",
       "      <td>...</td>\n",
       "      <td>...</td>\n",
       "      <td>...</td>\n",
       "    </tr>\n",
       "    <tr>\n",
       "      <th>2212</th>\n",
       "      <td>61223.0</td>\n",
       "      <td>381.0</td>\n",
       "      <td>1341.0</td>\n",
       "      <td>1.0</td>\n",
       "      <td>46.0</td>\n",
       "    </tr>\n",
       "    <tr>\n",
       "      <th>2213</th>\n",
       "      <td>64014.0</td>\n",
       "      <td>19.0</td>\n",
       "      <td>444.0</td>\n",
       "      <td>3.0</td>\n",
       "      <td>56.0</td>\n",
       "    </tr>\n",
       "    <tr>\n",
       "      <th>2214</th>\n",
       "      <td>56981.0</td>\n",
       "      <td>155.0</td>\n",
       "      <td>1241.0</td>\n",
       "      <td>0.0</td>\n",
       "      <td>91.0</td>\n",
       "    </tr>\n",
       "    <tr>\n",
       "      <th>2215</th>\n",
       "      <td>69245.0</td>\n",
       "      <td>156.0</td>\n",
       "      <td>843.0</td>\n",
       "      <td>1.0</td>\n",
       "      <td>8.0</td>\n",
       "    </tr>\n",
       "    <tr>\n",
       "      <th>2216</th>\n",
       "      <td>52869.0</td>\n",
       "      <td>622.0</td>\n",
       "      <td>172.0</td>\n",
       "      <td>2.0</td>\n",
       "      <td>40.0</td>\n",
       "    </tr>\n",
       "  </tbody>\n",
       "</table>\n",
       "<p>2217 rows × 5 columns</p>\n",
       "</div>"
      ],
      "text/plain": [
       "       Income  Customer_Tenure  Total_Spend  Family_Size  Recency\n",
       "0     58138.0            663.0       1617.0          0.0     58.0\n",
       "1     46344.0            113.0         27.0          2.0     38.0\n",
       "2     71613.0            312.0        776.0          0.0     26.0\n",
       "3     26646.0            139.0         53.0          1.0     26.0\n",
       "4     58293.0            161.0        422.0          1.0     94.0\n",
       "...       ...              ...          ...          ...      ...\n",
       "2212  61223.0            381.0       1341.0          1.0     46.0\n",
       "2213  64014.0             19.0        444.0          3.0     56.0\n",
       "2214  56981.0            155.0       1241.0          0.0     91.0\n",
       "2215  69245.0            156.0        843.0          1.0      8.0\n",
       "2216  52869.0            622.0        172.0          2.0     40.0\n",
       "\n",
       "[2217 rows x 5 columns]"
      ]
     },
     "execution_count": 51,
     "metadata": {},
     "output_type": "execute_result"
    }
   ],
   "source": [
    "df[numerical_features]"
   ]
  },
  {
   "cell_type": "code",
   "execution_count": 52,
   "id": "6b4d9783",
   "metadata": {},
   "outputs": [
    {
     "name": "stdout",
     "output_type": "stream",
     "text": [
      "Clustering completed!\n",
      "- Silhouette Score: 0.278\n",
      "- Visualizations saved: cluster_metrics.png, cluster_profiles.png\n",
      "- Interactive plot: interactive_clusters.html\n"
     ]
    }
   ],
   "source": [
    "# Save cluster labels\n",
    "df.to_csv('clustered_customers.csv', index=False)\n",
    "\n",
    "# Generate cluster descriptions\n",
    "cluster_descriptions = []\n",
    "for cluster in range(optimal_clusters):\n",
    "    subset = df[df['Cluster'] == cluster]\n",
    "    desc = f\"\"\"\n",
    "    Cluster {cluster} (n={len(subset)}):\n",
    "    - Median Income: ${subset['Income'].median():,.0f}\n",
    "    - Median Spend: ${subset['Total_Spend'].median():,.0f}\n",
    "    - Key Characteristics: {'High' if subset['MntWines'].median() > 300 else 'Low'} wine spenders,\n",
    "      {'Frequent' if subset['Recency'].median() < 30 else 'Infrequent'} purchasers\n",
    "    \"\"\"\n",
    "    cluster_descriptions.append(desc)\n",
    "\n",
    "with open('cluster_descriptions.txt', 'w') as f:\n",
    "    f.write(\"\\n\".join(cluster_descriptions))\n",
    "\n",
    "print(\"Clustering completed!\")\n",
    "print(f\"- Silhouette Score: {silhouette_score(embeddings, cluster_labels):.3f}\")\n",
    "print(\"- Visualizations saved: cluster_metrics.png, cluster_profiles.png\")\n",
    "print(\"- Interactive plot: interactive_clusters.html\")"
   ]
  }
 ],
 "metadata": {
  "kernelspec": {
   "display_name": "cs685hw",
   "language": "python",
   "name": "python3"
  },
  "language_info": {
   "codemirror_mode": {
    "name": "ipython",
    "version": 3
   },
   "file_extension": ".py",
   "mimetype": "text/x-python",
   "name": "python",
   "nbconvert_exporter": "python",
   "pygments_lexer": "ipython3",
   "version": "3.10.16"
  }
 },
 "nbformat": 4,
 "nbformat_minor": 5
}
