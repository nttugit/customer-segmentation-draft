{
 "cells": [
  {
   "cell_type": "markdown",
   "id": "369ae22e",
   "metadata": {},
   "source": [
    "# Phase 1: Data Preprocessing & Feature Engineering"
   ]
  },
  {
   "cell_type": "code",
   "execution_count": null,
   "id": "f400bae4",
   "metadata": {},
   "outputs": [],
   "source": [
    "import pandas as pd\n",
    "import numpy as np\n",
    "from datetime import datetime\n",
    "from sklearn.preprocessing import StandardScaler, OneHotEncoder, TargetEncoder\n",
    "from sklearn.impute import SimpleImputer"
   ]
  },
  {
   "cell_type": "code",
   "execution_count": null,
   "id": "abd0132e",
   "metadata": {},
   "outputs": [],
   "source": [
    "# Load the dataset\n",
    "df = pd.read_csv('marketing_campaign.csv', sep='\\t')  # Note: Adjust delimiter if needed\n",
    "df.head()"
   ]
  },
  {
   "cell_type": "markdown",
   "id": "3688e7f9",
   "metadata": {},
   "source": [
    "## Data Cleaning"
   ]
  },
  {
   "cell_type": "code",
   "execution_count": null,
   "id": "0f3e6c65",
   "metadata": {},
   "outputs": [],
   "source": [
    "# Handle missing values (e.g., Income)\n",
    "df['Income'] = df['Income'].fillna(df['Income'].median())\n",
    "\n",
    "# Remove outliers (e.g., Income > 99th percentile)\n",
    "income_threshold = df['Income'].quantile(0.99)\n",
    "df = df[df['Income'] <= income_threshold]\n",
    "\n",
    "# Drop redundant columns (Z_CostContact, Z_Revenue are constants)\n",
    "df = df.drop(columns=['Z_CostContact', 'Z_Revenue'])"
   ]
  },
  {
   "cell_type": "markdown",
   "id": "2e7a3494",
   "metadata": {},
   "source": [
    "## Feature Encoding"
   ]
  },
  {
   "cell_type": "code",
   "execution_count": null,
   "id": "e55d100f",
   "metadata": {},
   "outputs": [],
   "source": [
    "# Ordinal encoding for Education (assuming ordinality)\n",
    "education_order = ['Basic', '2n Cycle', 'Graduation', 'Master', 'PhD']\n",
    "df['Education'] = df['Education'].astype('category').cat.set_categories(education_order, ordered=True)\n",
    "df['Education_encoded'] = df['Education'].cat.codes\n",
    "\n",
    "# One-hot encoding for Marital_Status\n",
    "df = pd.get_dummies(df, columns=['Marital_Status'], prefix='Marital')"
   ]
  },
  {
   "cell_type": "markdown",
   "id": "9c6dbf27",
   "metadata": {},
   "source": [
    "## New Feature Creation"
   ]
  },
  {
   "cell_type": "code",
   "execution_count": null,
   "id": "e2fc55a0",
   "metadata": {},
   "outputs": [],
   "source": [
    "# Convert Dt_Customer to tenure (days since enrollment)\n",
    "# We calculate from the last date of purchase, not today (2025)\n",
    "df['Dt_Customer'] = pd.to_datetime(df['Dt_Customer'], format='%d-%m-%Y')\n",
    "last_purchased_date = df['Dt_Customer'].max()\n",
    "df['Customer_Tenure'] = (last_purchased_date - df['Dt_Customer']).dt.days\n",
    "\n",
    "# Derive \"Family_Size\" (Kidhome + Teenhome)\n",
    "df['Family_Size'] = df['Kidhome'] + df['Teenhome']\n",
    "\n",
    "# Derive \"Total_Spend\" (sum of all product purchases)\n",
    "product_columns = ['MntWines', 'MntFruits', 'MntMeatProducts', 'MntFishProducts', 'MntSweetProducts', 'MntGoldProds']\n",
    "df['Total_Spend'] = df[product_columns].sum(axis=1)"
   ]
  },
  {
   "cell_type": "markdown",
   "id": "1ff88f60",
   "metadata": {},
   "source": [
    "## Scaling & Correlation"
   ]
  },
  {
   "cell_type": "code",
   "execution_count": null,
   "id": "0567ddb4",
   "metadata": {},
   "outputs": [],
   "source": [
    "# Scale numerical features (for clustering/autoencoder)\n",
    "scaler = StandardScaler()\n",
    "numerical_features = ['Income', 'Customer_Tenure', 'Total_Spend', 'Family_Size', 'Recency']\n",
    "df[numerical_features] = scaler.fit_transform(df[numerical_features])\n",
    "# Correlation analysis (optional, for EDA)\n",
    "correlation_matrix = df[numerical_features].corr()"
   ]
  },
  {
   "cell_type": "markdown",
   "id": "918ab20f",
   "metadata": {},
   "source": [
    "## Documentation & Output "
   ]
  },
  {
   "cell_type": "code",
   "execution_count": null,
   "id": "359335f7",
   "metadata": {},
   "outputs": [],
   "source": [
    "# Save preprocessed data\n",
    "df.to_csv('preprocessed_campaign_data.csv', index=False)\n",
    "\n",
    "# Print summary of changes\n",
    "print(\"Preprocessing Summary:\")\n",
    "print(f\"- Missing values handled: Income imputed with median.\")\n",
    "print(f\"- New features added: Customer_Tenure, Family_Size, Total_Spend.\")\n",
    "print(f\"- Categorical features encoded: Education (ordinal), Marital_Status (one-hot).\")\n",
    "print(f\"- Numerical features scaled: {numerical_features}\")"
   ]
  }
 ],
 "metadata": {
  "kernelspec": {
   "display_name": "cs685hw",
   "language": "python",
   "name": "python3"
  },
  "language_info": {
   "name": "python",
   "version": "3.10.16"
  }
 },
 "nbformat": 4,
 "nbformat_minor": 5
}
