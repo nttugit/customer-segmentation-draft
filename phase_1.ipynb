{
 "cells": [
  {
   "cell_type": "markdown",
   "id": "369ae22e",
   "metadata": {},
   "source": [
    "# Phase 1: Data Preprocessing & Feature Engineering"
   ]
  },
  {
   "cell_type": "code",
   "execution_count": 2,
   "id": "f400bae4",
   "metadata": {},
   "outputs": [],
   "source": [
    "import pandas as pd\n",
    "import numpy as np\n",
    "from datetime import datetime\n",
    "from sklearn.preprocessing import StandardScaler, OneHotEncoder, TargetEncoder\n",
    "from sklearn.impute import SimpleImputer"
   ]
  },
  {
   "cell_type": "code",
   "execution_count": 3,
   "id": "abd0132e",
   "metadata": {},
   "outputs": [
    {
     "data": {
      "text/html": [
       "<div>\n",
       "<style scoped>\n",
       "    .dataframe tbody tr th:only-of-type {\n",
       "        vertical-align: middle;\n",
       "    }\n",
       "\n",
       "    .dataframe tbody tr th {\n",
       "        vertical-align: top;\n",
       "    }\n",
       "\n",
       "    .dataframe thead th {\n",
       "        text-align: right;\n",
       "    }\n",
       "</style>\n",
       "<table border=\"1\" class=\"dataframe\">\n",
       "  <thead>\n",
       "    <tr style=\"text-align: right;\">\n",
       "      <th></th>\n",
       "      <th>ID</th>\n",
       "      <th>Year_Birth</th>\n",
       "      <th>Education</th>\n",
       "      <th>Marital_Status</th>\n",
       "      <th>Income</th>\n",
       "      <th>Kidhome</th>\n",
       "      <th>Teenhome</th>\n",
       "      <th>Dt_Customer</th>\n",
       "      <th>Recency</th>\n",
       "      <th>MntWines</th>\n",
       "      <th>...</th>\n",
       "      <th>NumWebVisitsMonth</th>\n",
       "      <th>AcceptedCmp3</th>\n",
       "      <th>AcceptedCmp4</th>\n",
       "      <th>AcceptedCmp5</th>\n",
       "      <th>AcceptedCmp1</th>\n",
       "      <th>AcceptedCmp2</th>\n",
       "      <th>Complain</th>\n",
       "      <th>Z_CostContact</th>\n",
       "      <th>Z_Revenue</th>\n",
       "      <th>Response</th>\n",
       "    </tr>\n",
       "  </thead>\n",
       "  <tbody>\n",
       "    <tr>\n",
       "      <th>0</th>\n",
       "      <td>5524</td>\n",
       "      <td>1957</td>\n",
       "      <td>Graduation</td>\n",
       "      <td>Single</td>\n",
       "      <td>58138.0</td>\n",
       "      <td>0</td>\n",
       "      <td>0</td>\n",
       "      <td>04-09-2012</td>\n",
       "      <td>58</td>\n",
       "      <td>635</td>\n",
       "      <td>...</td>\n",
       "      <td>7</td>\n",
       "      <td>0</td>\n",
       "      <td>0</td>\n",
       "      <td>0</td>\n",
       "      <td>0</td>\n",
       "      <td>0</td>\n",
       "      <td>0</td>\n",
       "      <td>3</td>\n",
       "      <td>11</td>\n",
       "      <td>1</td>\n",
       "    </tr>\n",
       "    <tr>\n",
       "      <th>1</th>\n",
       "      <td>2174</td>\n",
       "      <td>1954</td>\n",
       "      <td>Graduation</td>\n",
       "      <td>Single</td>\n",
       "      <td>46344.0</td>\n",
       "      <td>1</td>\n",
       "      <td>1</td>\n",
       "      <td>08-03-2014</td>\n",
       "      <td>38</td>\n",
       "      <td>11</td>\n",
       "      <td>...</td>\n",
       "      <td>5</td>\n",
       "      <td>0</td>\n",
       "      <td>0</td>\n",
       "      <td>0</td>\n",
       "      <td>0</td>\n",
       "      <td>0</td>\n",
       "      <td>0</td>\n",
       "      <td>3</td>\n",
       "      <td>11</td>\n",
       "      <td>0</td>\n",
       "    </tr>\n",
       "    <tr>\n",
       "      <th>2</th>\n",
       "      <td>4141</td>\n",
       "      <td>1965</td>\n",
       "      <td>Graduation</td>\n",
       "      <td>Together</td>\n",
       "      <td>71613.0</td>\n",
       "      <td>0</td>\n",
       "      <td>0</td>\n",
       "      <td>21-08-2013</td>\n",
       "      <td>26</td>\n",
       "      <td>426</td>\n",
       "      <td>...</td>\n",
       "      <td>4</td>\n",
       "      <td>0</td>\n",
       "      <td>0</td>\n",
       "      <td>0</td>\n",
       "      <td>0</td>\n",
       "      <td>0</td>\n",
       "      <td>0</td>\n",
       "      <td>3</td>\n",
       "      <td>11</td>\n",
       "      <td>0</td>\n",
       "    </tr>\n",
       "    <tr>\n",
       "      <th>3</th>\n",
       "      <td>6182</td>\n",
       "      <td>1984</td>\n",
       "      <td>Graduation</td>\n",
       "      <td>Together</td>\n",
       "      <td>26646.0</td>\n",
       "      <td>1</td>\n",
       "      <td>0</td>\n",
       "      <td>10-02-2014</td>\n",
       "      <td>26</td>\n",
       "      <td>11</td>\n",
       "      <td>...</td>\n",
       "      <td>6</td>\n",
       "      <td>0</td>\n",
       "      <td>0</td>\n",
       "      <td>0</td>\n",
       "      <td>0</td>\n",
       "      <td>0</td>\n",
       "      <td>0</td>\n",
       "      <td>3</td>\n",
       "      <td>11</td>\n",
       "      <td>0</td>\n",
       "    </tr>\n",
       "    <tr>\n",
       "      <th>4</th>\n",
       "      <td>5324</td>\n",
       "      <td>1981</td>\n",
       "      <td>PhD</td>\n",
       "      <td>Married</td>\n",
       "      <td>58293.0</td>\n",
       "      <td>1</td>\n",
       "      <td>0</td>\n",
       "      <td>19-01-2014</td>\n",
       "      <td>94</td>\n",
       "      <td>173</td>\n",
       "      <td>...</td>\n",
       "      <td>5</td>\n",
       "      <td>0</td>\n",
       "      <td>0</td>\n",
       "      <td>0</td>\n",
       "      <td>0</td>\n",
       "      <td>0</td>\n",
       "      <td>0</td>\n",
       "      <td>3</td>\n",
       "      <td>11</td>\n",
       "      <td>0</td>\n",
       "    </tr>\n",
       "  </tbody>\n",
       "</table>\n",
       "<p>5 rows × 29 columns</p>\n",
       "</div>"
      ],
      "text/plain": [
       "     ID  Year_Birth   Education Marital_Status   Income  Kidhome  Teenhome  \\\n",
       "0  5524        1957  Graduation         Single  58138.0        0         0   \n",
       "1  2174        1954  Graduation         Single  46344.0        1         1   \n",
       "2  4141        1965  Graduation       Together  71613.0        0         0   \n",
       "3  6182        1984  Graduation       Together  26646.0        1         0   \n",
       "4  5324        1981         PhD        Married  58293.0        1         0   \n",
       "\n",
       "  Dt_Customer  Recency  MntWines  ...  NumWebVisitsMonth  AcceptedCmp3  \\\n",
       "0  04-09-2012       58       635  ...                  7             0   \n",
       "1  08-03-2014       38        11  ...                  5             0   \n",
       "2  21-08-2013       26       426  ...                  4             0   \n",
       "3  10-02-2014       26        11  ...                  6             0   \n",
       "4  19-01-2014       94       173  ...                  5             0   \n",
       "\n",
       "   AcceptedCmp4  AcceptedCmp5  AcceptedCmp1  AcceptedCmp2  Complain  \\\n",
       "0             0             0             0             0         0   \n",
       "1             0             0             0             0         0   \n",
       "2             0             0             0             0         0   \n",
       "3             0             0             0             0         0   \n",
       "4             0             0             0             0         0   \n",
       "\n",
       "   Z_CostContact  Z_Revenue  Response  \n",
       "0              3         11         1  \n",
       "1              3         11         0  \n",
       "2              3         11         0  \n",
       "3              3         11         0  \n",
       "4              3         11         0  \n",
       "\n",
       "[5 rows x 29 columns]"
      ]
     },
     "execution_count": 3,
     "metadata": {},
     "output_type": "execute_result"
    }
   ],
   "source": [
    "# Load the dataset\n",
    "df = pd.read_csv('marketing_campaign.csv', sep='\\t')  # Note: Adjust delimiter if needed\n",
    "df.head()"
   ]
  },
  {
   "cell_type": "markdown",
   "id": "3688e7f9",
   "metadata": {},
   "source": [
    "## Data Cleaning"
   ]
  },
  {
   "cell_type": "code",
   "execution_count": 4,
   "id": "0f3e6c65",
   "metadata": {},
   "outputs": [],
   "source": [
    "# Handle missing values (e.g., Income)\n",
    "df['Income'] = df['Income'].fillna(df['Income'].median())\n",
    "\n",
    "# Remove outliers (e.g., Income > 99th percentile)\n",
    "income_threshold = df['Income'].quantile(0.99)\n",
    "df = df[df['Income'] <= income_threshold]\n",
    "\n",
    "# Drop redundant columns (Z_CostContact, Z_Revenue are constants)\n",
    "df = df.drop(columns=['Z_CostContact', 'Z_Revenue'])"
   ]
  },
  {
   "cell_type": "markdown",
   "id": "2e7a3494",
   "metadata": {},
   "source": [
    "## Feature Encoding"
   ]
  },
  {
   "cell_type": "code",
   "execution_count": 5,
   "id": "e55d100f",
   "metadata": {},
   "outputs": [],
   "source": [
    "# Ordinal encoding for Education (assuming ordinality)\n",
    "education_order = ['Basic', '2n Cycle', 'Graduation', 'Master', 'PhD']\n",
    "df['Education'] = df['Education'].astype('category').cat.set_categories(education_order, ordered=True)\n",
    "df['Education_encoded'] = df['Education'].cat.codes\n",
    "\n",
    "# One-hot encoding for Marital_Status\n",
    "df = pd.get_dummies(df, columns=['Marital_Status'], prefix='Marital')"
   ]
  },
  {
   "cell_type": "markdown",
   "id": "9c6dbf27",
   "metadata": {},
   "source": [
    "## New Feature Creation"
   ]
  },
  {
   "cell_type": "code",
   "execution_count": 6,
   "id": "e2fc55a0",
   "metadata": {},
   "outputs": [],
   "source": [
    "# Convert Dt_Customer to tenure (days since enrollment)\n",
    "# We calculate from the last date of purchase, not today (2025)\n",
    "df['Dt_Customer'] = pd.to_datetime(df['Dt_Customer'], format='%d-%m-%Y')\n",
    "last_purchased_date = df['Dt_Customer'].max()\n",
    "df['Customer_Tenure'] = (last_purchased_date - df['Dt_Customer']).dt.days\n",
    "\n",
    "# Derive \"Family_Size\" (Kidhome + Teenhome)\n",
    "df['Family_Size'] = df['Kidhome'] + df['Teenhome']\n",
    "\n",
    "# Derive \"Total_Spend\" (sum of all product purchases)\n",
    "product_columns = ['MntWines', 'MntFruits', 'MntMeatProducts', 'MntFishProducts', 'MntSweetProducts', 'MntGoldProds']\n",
    "df['Total_Spend'] = df[product_columns].sum(axis=1)"
   ]
  },
  {
   "cell_type": "markdown",
   "id": "1ff88f60",
   "metadata": {},
   "source": [
    "## Scaling & Correlation"
   ]
  },
  {
   "cell_type": "code",
   "execution_count": 7,
   "id": "0567ddb4",
   "metadata": {},
   "outputs": [],
   "source": [
    "# Scale numerical features (for clustering/autoencoder)\n",
    "scaler = StandardScaler()\n",
    "numerical_features = ['Income', 'Customer_Tenure', 'Total_Spend', 'Family_Size', 'Recency']\n",
    "df[numerical_features] = scaler.fit_transform(df[numerical_features])\n",
    "# Correlation analysis (optional, for EDA)\n",
    "correlation_matrix = df[numerical_features].corr()"
   ]
  },
  {
   "cell_type": "markdown",
   "id": "918ab20f",
   "metadata": {},
   "source": [
    "## Documentation & Output "
   ]
  },
  {
   "cell_type": "code",
   "execution_count": 8,
   "id": "359335f7",
   "metadata": {},
   "outputs": [
    {
     "name": "stdout",
     "output_type": "stream",
     "text": [
      "Preprocessing Summary:\n",
      "- Missing values handled: Income imputed with median.\n",
      "- New features added: Customer_Tenure, Family_Size, Total_Spend.\n",
      "- Categorical features encoded: Education (ordinal), Marital_Status (one-hot).\n",
      "- Numerical features scaled: ['Income', 'Customer_Tenure', 'Total_Spend', 'Family_Size', 'Recency']\n"
     ]
    }
   ],
   "source": [
    "# Save preprocessed data\n",
    "df.to_csv('preprocessed_campaign_data.csv', index=False)\n",
    "\n",
    "# Print summary of changes\n",
    "print(\"Preprocessing Summary:\")\n",
    "print(f\"- Missing values handled: Income imputed with median.\")\n",
    "print(f\"- New features added: Customer_Tenure, Family_Size, Total_Spend.\")\n",
    "print(f\"- Categorical features encoded: Education (ordinal), Marital_Status (one-hot).\")\n",
    "print(f\"- Numerical features scaled: {numerical_features}\")"
   ]
  }
 ],
 "metadata": {
  "kernelspec": {
   "display_name": "cs685hw",
   "language": "python",
   "name": "python3"
  },
  "language_info": {
   "codemirror_mode": {
    "name": "ipython",
    "version": 3
   },
   "file_extension": ".py",
   "mimetype": "text/x-python",
   "name": "python",
   "nbconvert_exporter": "python",
   "pygments_lexer": "ipython3",
   "version": "3.10.16"
  }
 },
 "nbformat": 4,
 "nbformat_minor": 5
}
