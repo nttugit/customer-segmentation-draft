{
 "cells": [
  {
   "cell_type": "markdown",
   "id": "369ae22e",
   "metadata": {},
   "source": [
    "# Phase 1: Data Preprocessing & Feature Engineering"
   ]
  },
  {
   "cell_type": "code",
   "execution_count": 18,
   "id": "f400bae4",
   "metadata": {},
   "outputs": [],
   "source": [
    "import pandas as pd\n",
    "import numpy as np\n",
    "from datetime import datetime\n",
    "from sklearn.preprocessing import StandardScaler, OneHotEncoder, TargetEncoder\n",
    "from sklearn.impute import SimpleImputer"
   ]
  },
  {
   "cell_type": "code",
   "execution_count": 2,
   "id": "abd0132e",
   "metadata": {},
   "outputs": [
    {
     "data": {
      "text/html": [
       "<div>\n",
       "<style scoped>\n",
       "    .dataframe tbody tr th:only-of-type {\n",
       "        vertical-align: middle;\n",
       "    }\n",
       "\n",
       "    .dataframe tbody tr th {\n",
       "        vertical-align: top;\n",
       "    }\n",
       "\n",
       "    .dataframe thead th {\n",
       "        text-align: right;\n",
       "    }\n",
       "</style>\n",
       "<table border=\"1\" class=\"dataframe\">\n",
       "  <thead>\n",
       "    <tr style=\"text-align: right;\">\n",
       "      <th></th>\n",
       "      <th>ID</th>\n",
       "      <th>Year_Birth</th>\n",
       "      <th>Education</th>\n",
       "      <th>Marital_Status</th>\n",
       "      <th>Income</th>\n",
       "      <th>Kidhome</th>\n",
       "      <th>Teenhome</th>\n",
       "      <th>Dt_Customer</th>\n",
       "      <th>Recency</th>\n",
       "      <th>MntWines</th>\n",
       "      <th>...</th>\n",
       "      <th>NumWebVisitsMonth</th>\n",
       "      <th>AcceptedCmp3</th>\n",
       "      <th>AcceptedCmp4</th>\n",
       "      <th>AcceptedCmp5</th>\n",
       "      <th>AcceptedCmp1</th>\n",
       "      <th>AcceptedCmp2</th>\n",
       "      <th>Complain</th>\n",
       "      <th>Z_CostContact</th>\n",
       "      <th>Z_Revenue</th>\n",
       "      <th>Response</th>\n",
       "    </tr>\n",
       "  </thead>\n",
       "  <tbody>\n",
       "    <tr>\n",
       "      <th>0</th>\n",
       "      <td>5524</td>\n",
       "      <td>1957</td>\n",
       "      <td>Graduation</td>\n",
       "      <td>Single</td>\n",
       "      <td>58138.0</td>\n",
       "      <td>0</td>\n",
       "      <td>0</td>\n",
       "      <td>04-09-2012</td>\n",
       "      <td>58</td>\n",
       "      <td>635</td>\n",
       "      <td>...</td>\n",
       "      <td>7</td>\n",
       "      <td>0</td>\n",
       "      <td>0</td>\n",
       "      <td>0</td>\n",
       "      <td>0</td>\n",
       "      <td>0</td>\n",
       "      <td>0</td>\n",
       "      <td>3</td>\n",
       "      <td>11</td>\n",
       "      <td>1</td>\n",
       "    </tr>\n",
       "    <tr>\n",
       "      <th>1</th>\n",
       "      <td>2174</td>\n",
       "      <td>1954</td>\n",
       "      <td>Graduation</td>\n",
       "      <td>Single</td>\n",
       "      <td>46344.0</td>\n",
       "      <td>1</td>\n",
       "      <td>1</td>\n",
       "      <td>08-03-2014</td>\n",
       "      <td>38</td>\n",
       "      <td>11</td>\n",
       "      <td>...</td>\n",
       "      <td>5</td>\n",
       "      <td>0</td>\n",
       "      <td>0</td>\n",
       "      <td>0</td>\n",
       "      <td>0</td>\n",
       "      <td>0</td>\n",
       "      <td>0</td>\n",
       "      <td>3</td>\n",
       "      <td>11</td>\n",
       "      <td>0</td>\n",
       "    </tr>\n",
       "    <tr>\n",
       "      <th>2</th>\n",
       "      <td>4141</td>\n",
       "      <td>1965</td>\n",
       "      <td>Graduation</td>\n",
       "      <td>Together</td>\n",
       "      <td>71613.0</td>\n",
       "      <td>0</td>\n",
       "      <td>0</td>\n",
       "      <td>21-08-2013</td>\n",
       "      <td>26</td>\n",
       "      <td>426</td>\n",
       "      <td>...</td>\n",
       "      <td>4</td>\n",
       "      <td>0</td>\n",
       "      <td>0</td>\n",
       "      <td>0</td>\n",
       "      <td>0</td>\n",
       "      <td>0</td>\n",
       "      <td>0</td>\n",
       "      <td>3</td>\n",
       "      <td>11</td>\n",
       "      <td>0</td>\n",
       "    </tr>\n",
       "    <tr>\n",
       "      <th>3</th>\n",
       "      <td>6182</td>\n",
       "      <td>1984</td>\n",
       "      <td>Graduation</td>\n",
       "      <td>Together</td>\n",
       "      <td>26646.0</td>\n",
       "      <td>1</td>\n",
       "      <td>0</td>\n",
       "      <td>10-02-2014</td>\n",
       "      <td>26</td>\n",
       "      <td>11</td>\n",
       "      <td>...</td>\n",
       "      <td>6</td>\n",
       "      <td>0</td>\n",
       "      <td>0</td>\n",
       "      <td>0</td>\n",
       "      <td>0</td>\n",
       "      <td>0</td>\n",
       "      <td>0</td>\n",
       "      <td>3</td>\n",
       "      <td>11</td>\n",
       "      <td>0</td>\n",
       "    </tr>\n",
       "    <tr>\n",
       "      <th>4</th>\n",
       "      <td>5324</td>\n",
       "      <td>1981</td>\n",
       "      <td>PhD</td>\n",
       "      <td>Married</td>\n",
       "      <td>58293.0</td>\n",
       "      <td>1</td>\n",
       "      <td>0</td>\n",
       "      <td>19-01-2014</td>\n",
       "      <td>94</td>\n",
       "      <td>173</td>\n",
       "      <td>...</td>\n",
       "      <td>5</td>\n",
       "      <td>0</td>\n",
       "      <td>0</td>\n",
       "      <td>0</td>\n",
       "      <td>0</td>\n",
       "      <td>0</td>\n",
       "      <td>0</td>\n",
       "      <td>3</td>\n",
       "      <td>11</td>\n",
       "      <td>0</td>\n",
       "    </tr>\n",
       "  </tbody>\n",
       "</table>\n",
       "<p>5 rows × 29 columns</p>\n",
       "</div>"
      ],
      "text/plain": [
       "     ID  Year_Birth   Education Marital_Status   Income  Kidhome  Teenhome  \\\n",
       "0  5524        1957  Graduation         Single  58138.0        0         0   \n",
       "1  2174        1954  Graduation         Single  46344.0        1         1   \n",
       "2  4141        1965  Graduation       Together  71613.0        0         0   \n",
       "3  6182        1984  Graduation       Together  26646.0        1         0   \n",
       "4  5324        1981         PhD        Married  58293.0        1         0   \n",
       "\n",
       "  Dt_Customer  Recency  MntWines  ...  NumWebVisitsMonth  AcceptedCmp3  \\\n",
       "0  04-09-2012       58       635  ...                  7             0   \n",
       "1  08-03-2014       38        11  ...                  5             0   \n",
       "2  21-08-2013       26       426  ...                  4             0   \n",
       "3  10-02-2014       26        11  ...                  6             0   \n",
       "4  19-01-2014       94       173  ...                  5             0   \n",
       "\n",
       "   AcceptedCmp4  AcceptedCmp5  AcceptedCmp1  AcceptedCmp2  Complain  \\\n",
       "0             0             0             0             0         0   \n",
       "1             0             0             0             0         0   \n",
       "2             0             0             0             0         0   \n",
       "3             0             0             0             0         0   \n",
       "4             0             0             0             0         0   \n",
       "\n",
       "   Z_CostContact  Z_Revenue  Response  \n",
       "0              3         11         1  \n",
       "1              3         11         0  \n",
       "2              3         11         0  \n",
       "3              3         11         0  \n",
       "4              3         11         0  \n",
       "\n",
       "[5 rows x 29 columns]"
      ]
     },
     "execution_count": 2,
     "metadata": {},
     "output_type": "execute_result"
    }
   ],
   "source": [
    "# Load the dataset\n",
    "df = pd.read_csv('marketing_campaign.csv', sep='\\t')  # Note: Adjust delimiter if needed\n",
    "df.head()"
   ]
  },
  {
   "cell_type": "markdown",
   "id": "3688e7f9",
   "metadata": {},
   "source": [
    "## Data Cleaning"
   ]
  },
  {
   "cell_type": "code",
   "execution_count": 3,
   "id": "0f3e6c65",
   "metadata": {},
   "outputs": [],
   "source": [
    "# Handle missing values (e.g., Income)\n",
    "df['Income'] = df['Income'].fillna(df['Income'].median())\n",
    "\n",
    "# Remove outliers (e.g., Income > 99th percentile)\n",
    "income_threshold = df['Income'].quantile(0.99)\n",
    "df = df[df['Income'] <= income_threshold]\n",
    "\n",
    "# Drop redundant columns (Z_CostContact, Z_Revenue are constants)\n",
    "df = df.drop(columns=['Z_CostContact', 'Z_Revenue'])"
   ]
  },
  {
   "cell_type": "code",
   "execution_count": 4,
   "id": "808cef8e",
   "metadata": {},
   "outputs": [
    {
     "data": {
      "text/plain": [
       "(2217, 27)"
      ]
     },
     "execution_count": 4,
     "metadata": {},
     "output_type": "execute_result"
    }
   ],
   "source": [
    "df.shape"
   ]
  },
  {
   "cell_type": "markdown",
   "id": "2e7a3494",
   "metadata": {},
   "source": [
    "## Feature Encoding"
   ]
  },
  {
   "cell_type": "code",
   "execution_count": 5,
   "id": "e55d100f",
   "metadata": {},
   "outputs": [],
   "source": [
    "# Ordinal encoding for Education (assuming ordinality)\n",
    "education_order = ['Basic', '2n Cycle', 'Graduation', 'Master', 'PhD']\n",
    "df['Education'] = df['Education'].astype('category').cat.set_categories(education_order, ordered=True)\n",
    "df['Education_encoded'] = df['Education'].cat.codes\n",
    "\n",
    "# One-hot encoding for Marital_Status\n",
    "df = pd.get_dummies(df, columns=['Marital_Status'], prefix='Marital')"
   ]
  },
  {
   "cell_type": "code",
   "execution_count": 6,
   "id": "f9ab1196",
   "metadata": {},
   "outputs": [
    {
     "data": {
      "text/plain": [
       "(2217, 35)"
      ]
     },
     "execution_count": 6,
     "metadata": {},
     "output_type": "execute_result"
    }
   ],
   "source": [
    "df.shape"
   ]
  },
  {
   "cell_type": "code",
   "execution_count": 7,
   "id": "afe913c1",
   "metadata": {},
   "outputs": [
    {
     "data": {
      "text/plain": [
       "Index(['ID', 'Year_Birth', 'Education', 'Income', 'Kidhome', 'Teenhome',\n",
       "       'Dt_Customer', 'Recency', 'MntWines', 'MntFruits', 'MntMeatProducts',\n",
       "       'MntFishProducts', 'MntSweetProducts', 'MntGoldProds',\n",
       "       'NumDealsPurchases', 'NumWebPurchases', 'NumCatalogPurchases',\n",
       "       'NumStorePurchases', 'NumWebVisitsMonth', 'AcceptedCmp3',\n",
       "       'AcceptedCmp4', 'AcceptedCmp5', 'AcceptedCmp1', 'AcceptedCmp2',\n",
       "       'Complain', 'Response', 'Education_encoded', 'Marital_Absurd',\n",
       "       'Marital_Alone', 'Marital_Divorced', 'Marital_Married',\n",
       "       'Marital_Single', 'Marital_Together', 'Marital_Widow', 'Marital_YOLO'],\n",
       "      dtype='object')"
      ]
     },
     "execution_count": 7,
     "metadata": {},
     "output_type": "execute_result"
    }
   ],
   "source": [
    "df.columns"
   ]
  },
  {
   "cell_type": "code",
   "execution_count": 8,
   "id": "7febe7a0",
   "metadata": {},
   "outputs": [
    {
     "data": {
      "text/plain": [
       "0       Graduation\n",
       "1       Graduation\n",
       "2       Graduation\n",
       "3       Graduation\n",
       "4              PhD\n",
       "           ...    \n",
       "2235    Graduation\n",
       "2236           PhD\n",
       "2237    Graduation\n",
       "2238        Master\n",
       "2239           PhD\n",
       "Name: Education, Length: 2217, dtype: category\n",
       "Categories (5, object): ['Basic' < '2n Cycle' < 'Graduation' < 'Master' < 'PhD']"
      ]
     },
     "execution_count": 8,
     "metadata": {},
     "output_type": "execute_result"
    }
   ],
   "source": [
    "df['Education']"
   ]
  },
  {
   "cell_type": "code",
   "execution_count": 9,
   "id": "4e692334",
   "metadata": {},
   "outputs": [
    {
     "data": {
      "text/plain": [
       "0       2\n",
       "1       2\n",
       "2       2\n",
       "3       2\n",
       "4       4\n",
       "       ..\n",
       "2235    2\n",
       "2236    4\n",
       "2237    2\n",
       "2238    3\n",
       "2239    4\n",
       "Name: Education_encoded, Length: 2217, dtype: int8"
      ]
     },
     "execution_count": 9,
     "metadata": {},
     "output_type": "execute_result"
    }
   ],
   "source": [
    "df['Education_encoded']"
   ]
  },
  {
   "cell_type": "markdown",
   "id": "9c6dbf27",
   "metadata": {},
   "source": [
    "## New Feature Creation"
   ]
  },
  {
   "cell_type": "code",
   "execution_count": 10,
   "id": "e2fc55a0",
   "metadata": {},
   "outputs": [
    {
     "name": "stdout",
     "output_type": "stream",
     "text": [
      "last_purchased_date 2014-06-29 00:00:00\n"
     ]
    }
   ],
   "source": [
    "# Convert Dt_Customer to tenure (days since enrollment)\n",
    "# We calculate from the last date of purchase, not today (2025)\n",
    "df['Dt_Customer'] = pd.to_datetime(df['Dt_Customer'], format='%d-%m-%Y')\n",
    "last_purchased_date = df['Dt_Customer'].max()\n",
    "print('last_purchased_date',last_purchased_date)\n",
    "df['Customer_Tenure'] = (last_purchased_date - df['Dt_Customer']).dt.days\n",
    "\n",
    "# Derive \"Family_Size\" (Kidhome + Teenhome)\n",
    "df['Family_Size'] = df['Kidhome'] + df['Teenhome']\n",
    "\n",
    "# Derive \"Total_Spend\" (sum of all product purchases)\n",
    "product_columns = ['MntWines', 'MntFruits', 'MntMeatProducts', 'MntFishProducts', 'MntSweetProducts', 'MntGoldProds']\n",
    "df['Total_Spend'] = df[product_columns].sum(axis=1)"
   ]
  },
  {
   "cell_type": "code",
   "execution_count": 11,
   "id": "052617c2",
   "metadata": {},
   "outputs": [
    {
     "data": {
      "text/plain": [
       "0    663\n",
       "1    113\n",
       "2    312\n",
       "3    139\n",
       "4    161\n",
       "Name: Customer_Tenure, dtype: int64"
      ]
     },
     "execution_count": 11,
     "metadata": {},
     "output_type": "execute_result"
    }
   ],
   "source": [
    "df['Customer_Tenure'].head()"
   ]
  },
  {
   "cell_type": "code",
   "execution_count": 12,
   "id": "660d36e7",
   "metadata": {},
   "outputs": [
    {
     "data": {
      "text/plain": [
       "0    0\n",
       "1    2\n",
       "2    0\n",
       "3    1\n",
       "4    1\n",
       "Name: Family_Size, dtype: int64"
      ]
     },
     "execution_count": 12,
     "metadata": {},
     "output_type": "execute_result"
    }
   ],
   "source": [
    "df['Family_Size'].head()"
   ]
  },
  {
   "cell_type": "code",
   "execution_count": 13,
   "id": "61fa0b47",
   "metadata": {},
   "outputs": [
    {
     "data": {
      "text/plain": [
       "0    1617\n",
       "1      27\n",
       "2     776\n",
       "3      53\n",
       "4     422\n",
       "Name: Total_Spend, dtype: int64"
      ]
     },
     "execution_count": 13,
     "metadata": {},
     "output_type": "execute_result"
    }
   ],
   "source": [
    "df['Total_Spend'].head()"
   ]
  },
  {
   "cell_type": "markdown",
   "id": "1ff88f60",
   "metadata": {},
   "source": [
    "## Scaling & Correlation"
   ]
  },
  {
   "cell_type": "code",
   "execution_count": 14,
   "id": "0567ddb4",
   "metadata": {},
   "outputs": [],
   "source": [
    "# Scale numerical features (for clustering/autoencoder)\n",
    "scaler = StandardScaler()\n",
    "numerical_features = ['Income', 'Customer_Tenure', 'Total_Spend', 'Family_Size', 'Recency']\n",
    "df[numerical_features] = scaler.fit_transform(df[numerical_features])\n",
    "# Correlation analysis (optional, for EDA)\n",
    "correlation_matrix = df[numerical_features].corr()"
   ]
  },
  {
   "cell_type": "code",
   "execution_count": 15,
   "id": "4ae6b706",
   "metadata": {},
   "outputs": [
    {
     "data": {
      "text/plain": [
       "['scaler.joblib']"
      ]
     },
     "execution_count": 15,
     "metadata": {},
     "output_type": "execute_result"
    }
   ],
   "source": [
    "# Note: save scaler for the phase 3 reuse\n",
    "import joblib\n",
    "\n",
    "# Save the scaler to a file\n",
    "joblib.dump(scaler, 'scaler.joblib')  # Saves to disk"
   ]
  },
  {
   "cell_type": "code",
   "execution_count": 16,
   "id": "baa9dab0",
   "metadata": {},
   "outputs": [
    {
     "data": {
      "text/html": [
       "<div>\n",
       "<style scoped>\n",
       "    .dataframe tbody tr th:only-of-type {\n",
       "        vertical-align: middle;\n",
       "    }\n",
       "\n",
       "    .dataframe tbody tr th {\n",
       "        vertical-align: top;\n",
       "    }\n",
       "\n",
       "    .dataframe thead th {\n",
       "        text-align: right;\n",
       "    }\n",
       "</style>\n",
       "<table border=\"1\" class=\"dataframe\">\n",
       "  <thead>\n",
       "    <tr style=\"text-align: right;\">\n",
       "      <th></th>\n",
       "      <th>Income</th>\n",
       "      <th>Customer_Tenure</th>\n",
       "      <th>Total_Spend</th>\n",
       "      <th>Family_Size</th>\n",
       "      <th>Recency</th>\n",
       "    </tr>\n",
       "  </thead>\n",
       "  <tbody>\n",
       "    <tr>\n",
       "      <th>0</th>\n",
       "      <td>0.336654</td>\n",
       "      <td>1.530151</td>\n",
       "      <td>1.704107</td>\n",
       "      <td>-1.275199</td>\n",
       "      <td>0.305137</td>\n",
       "    </tr>\n",
       "    <tr>\n",
       "      <th>1</th>\n",
       "      <td>-0.244749</td>\n",
       "      <td>-1.191341</td>\n",
       "      <td>-0.958740</td>\n",
       "      <td>1.390634</td>\n",
       "      <td>-0.386181</td>\n",
       "    </tr>\n",
       "    <tr>\n",
       "      <th>2</th>\n",
       "      <td>1.000925</td>\n",
       "      <td>-0.206656</td>\n",
       "      <td>0.295645</td>\n",
       "      <td>-1.275199</td>\n",
       "      <td>-0.800972</td>\n",
       "    </tr>\n",
       "    <tr>\n",
       "      <th>3</th>\n",
       "      <td>-1.215793</td>\n",
       "      <td>-1.062688</td>\n",
       "      <td>-0.915196</td>\n",
       "      <td>0.057718</td>\n",
       "      <td>-0.800972</td>\n",
       "    </tr>\n",
       "    <tr>\n",
       "      <th>4</th>\n",
       "      <td>0.344295</td>\n",
       "      <td>-0.953829</td>\n",
       "      <td>-0.297215</td>\n",
       "      <td>0.057718</td>\n",
       "      <td>1.549510</td>\n",
       "    </tr>\n",
       "    <tr>\n",
       "      <th>...</th>\n",
       "      <td>...</td>\n",
       "      <td>...</td>\n",
       "      <td>...</td>\n",
       "      <td>...</td>\n",
       "      <td>...</td>\n",
       "    </tr>\n",
       "    <tr>\n",
       "      <th>2235</th>\n",
       "      <td>0.488734</td>\n",
       "      <td>0.134768</td>\n",
       "      <td>1.241877</td>\n",
       "      <td>0.057718</td>\n",
       "      <td>-0.109654</td>\n",
       "    </tr>\n",
       "    <tr>\n",
       "      <th>2236</th>\n",
       "      <td>0.626320</td>\n",
       "      <td>-1.656468</td>\n",
       "      <td>-0.260371</td>\n",
       "      <td>2.723550</td>\n",
       "      <td>0.236005</td>\n",
       "    </tr>\n",
       "    <tr>\n",
       "      <th>2237</th>\n",
       "      <td>0.279618</td>\n",
       "      <td>-0.983518</td>\n",
       "      <td>1.074402</td>\n",
       "      <td>-1.275199</td>\n",
       "      <td>1.445812</td>\n",
       "    </tr>\n",
       "    <tr>\n",
       "      <th>2238</th>\n",
       "      <td>0.884191</td>\n",
       "      <td>-0.978570</td>\n",
       "      <td>0.407853</td>\n",
       "      <td>0.057718</td>\n",
       "      <td>-1.423158</td>\n",
       "    </tr>\n",
       "    <tr>\n",
       "      <th>2239</th>\n",
       "      <td>0.076910</td>\n",
       "      <td>1.327276</td>\n",
       "      <td>-0.715901</td>\n",
       "      <td>1.390634</td>\n",
       "      <td>-0.317049</td>\n",
       "    </tr>\n",
       "  </tbody>\n",
       "</table>\n",
       "<p>2217 rows × 5 columns</p>\n",
       "</div>"
      ],
      "text/plain": [
       "        Income  Customer_Tenure  Total_Spend  Family_Size   Recency\n",
       "0     0.336654         1.530151     1.704107    -1.275199  0.305137\n",
       "1    -0.244749        -1.191341    -0.958740     1.390634 -0.386181\n",
       "2     1.000925        -0.206656     0.295645    -1.275199 -0.800972\n",
       "3    -1.215793        -1.062688    -0.915196     0.057718 -0.800972\n",
       "4     0.344295        -0.953829    -0.297215     0.057718  1.549510\n",
       "...        ...              ...          ...          ...       ...\n",
       "2235  0.488734         0.134768     1.241877     0.057718 -0.109654\n",
       "2236  0.626320        -1.656468    -0.260371     2.723550  0.236005\n",
       "2237  0.279618        -0.983518     1.074402    -1.275199  1.445812\n",
       "2238  0.884191        -0.978570     0.407853     0.057718 -1.423158\n",
       "2239  0.076910         1.327276    -0.715901     1.390634 -0.317049\n",
       "\n",
       "[2217 rows x 5 columns]"
      ]
     },
     "execution_count": 16,
     "metadata": {},
     "output_type": "execute_result"
    }
   ],
   "source": [
    "df[numerical_features] "
   ]
  },
  {
   "cell_type": "markdown",
   "id": "918ab20f",
   "metadata": {},
   "source": [
    "## Documentation & Output "
   ]
  },
  {
   "cell_type": "code",
   "execution_count": 17,
   "id": "359335f7",
   "metadata": {},
   "outputs": [
    {
     "name": "stdout",
     "output_type": "stream",
     "text": [
      "Preprocessing Summary:\n",
      "- Missing values handled: Income imputed with median.\n",
      "- New features added: Customer_Tenure, Family_Size, Total_Spend.\n",
      "- Categorical features encoded: Education (ordinal), Marital_Status (one-hot).\n",
      "- Numerical features scaled: ['Income', 'Customer_Tenure', 'Total_Spend', 'Family_Size', 'Recency']\n"
     ]
    }
   ],
   "source": [
    "# Save preprocessed data\n",
    "df.to_csv('preprocessed_campaign_data.csv', index=False)\n",
    "\n",
    "# Print summary of changes\n",
    "print(\"Preprocessing Summary:\")\n",
    "print(f\"- Missing values handled: Income imputed with median.\")\n",
    "print(f\"- New features added: Customer_Tenure, Family_Size, Total_Spend.\")\n",
    "print(f\"- Categorical features encoded: Education (ordinal), Marital_Status (one-hot).\")\n",
    "print(f\"- Numerical features scaled: {numerical_features}\")"
   ]
  }
 ],
 "metadata": {
  "kernelspec": {
   "display_name": "cs685hw",
   "language": "python",
   "name": "python3"
  },
  "language_info": {
   "codemirror_mode": {
    "name": "ipython",
    "version": 3
   },
   "file_extension": ".py",
   "mimetype": "text/x-python",
   "name": "python",
   "nbconvert_exporter": "python",
   "pygments_lexer": "ipython3",
   "version": "3.10.16"
  }
 },
 "nbformat": 4,
 "nbformat_minor": 5
}
